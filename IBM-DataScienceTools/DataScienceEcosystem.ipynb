{
 "cells": [
  {
   "cell_type": "markdown",
   "id": "8fa868da-af87-43b7-9503-47eba258817a",
   "metadata": {},
   "source": [
    "<center>\n",
    "    <img src=\"https://cf-courses-data.s3.us.cloud-object-storage.appdomain.cloud/IBMDeveloperSkillsNetwork-DS0105EN-SkillsNetwork/labs/Module2/images/SN_web_lightmode.png\" width=\"300\" alt=\"cognitiveclass.ai logo\">\n",
    "</center>\n"
   ]
  },
  {
   "cell_type": "markdown",
   "id": "686722e2-afeb-4403-a805-46324cf0290b",
   "metadata": {},
   "source": [
    "# Data Science Tools and Ecosystem\n",
    "In this notebook, Data Science Tools and Ecosystem are summarized.\n",
    "\n",
    "Some of the popular languages that Data Scientists use are:\n",
    "1. Python\n",
    "2. C++\n",
    "3. R\n",
    "\n",
    "Some of the commonly used libraries used by Data Scientists include:\n",
    "1. matplotlib\n",
    "2. TensorFlow\n",
    "3. scikit-learn\n",
    "\n",
    "Data Science Tools:\n",
    "1. Jupyter Lab/Notebook\n",
    "2. Apache Spark\n",
    "3. TensorFlow\n",
    "\n",
    "### Below are a few examples of evaluating arithmetic expressions in Python"
   ]
  },
  {
   "cell_type": "code",
   "execution_count": 2,
   "id": "9f8e6cc6-056f-4326-a31d-0d8a05a2c066",
   "metadata": {},
   "outputs": [
    {
     "data": {
      "text/plain": [
       "17"
      ]
     },
     "execution_count": 2,
     "metadata": {},
     "output_type": "execute_result"
    }
   ],
   "source": [
    "(3*4)+5\n",
    "# This a simple arithmetic expression to mutiply then add integers (Expected : 17)"
   ]
  },
  {
   "cell_type": "code",
   "execution_count": 3,
   "id": "874b8c92-de17-4873-8db3-1ff27c815ad5",
   "metadata": {},
   "outputs": [
    {
     "data": {
      "text/plain": [
       "3.3333333333333335"
      ]
     },
     "execution_count": 3,
     "metadata": {},
     "output_type": "execute_result"
    }
   ],
   "source": [
    "#  This will convert 200 minutes to hours by diving by 60\n",
    "minutes = 200\n",
    "hours = minutes / 60\n",
    "hours"
   ]
  },
  {
   "cell_type": "markdown",
   "id": "3e3f6553-4eb6-4fda-aa4e-7ec743819cce",
   "metadata": {},
   "source": [
    "**Objectives:**\n",
    "* DS Languages\n",
    "* DS Libraries\n",
    "* DS Tools\n",
    "* Python Example\n",
    "\n",
    "## Author\n",
    "Henry Tetlak"
   ]
  },
  {
   "cell_type": "code",
   "execution_count": null,
   "id": "473a5059-9773-4ab4-8c76-ba96459cf5e8",
   "metadata": {},
   "outputs": [],
   "source": []
  }
 ],
 "metadata": {
  "kernelspec": {
   "display_name": "Python 3 (ipykernel)",
   "language": "python",
   "name": "python3"
  },
  "language_info": {
   "codemirror_mode": {
    "name": "ipython",
    "version": 3
   },
   "file_extension": ".py",
   "mimetype": "text/x-python",
   "name": "python",
   "nbconvert_exporter": "python",
   "pygments_lexer": "ipython3",
   "version": "3.9.13"
  }
 },
 "nbformat": 4,
 "nbformat_minor": 5
}
